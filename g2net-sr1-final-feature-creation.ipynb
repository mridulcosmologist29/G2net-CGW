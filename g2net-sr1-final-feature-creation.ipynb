{
 "cells": [
  {
   "cell_type": "code",
   "execution_count": 1,
   "id": "9e0768eb",
   "metadata": {
    "_cell_guid": "b1076dfc-b9ad-4769-8c92-a6c4dae69d19",
    "_uuid": "8f2839f25d086af736a60e9eeb907d3b93b6e0e5",
    "execution": {
     "iopub.execute_input": "2022-12-31T19:14:31.169676Z",
     "iopub.status.busy": "2022-12-31T19:14:31.169029Z",
     "iopub.status.idle": "2022-12-31T19:14:31.189621Z",
     "shell.execute_reply": "2022-12-31T19:14:31.188444Z"
    },
    "papermill": {
     "duration": 0.030424,
     "end_time": "2022-12-31T19:14:31.192065",
     "exception": false,
     "start_time": "2022-12-31T19:14:31.161641",
     "status": "completed"
    },
    "tags": []
   },
   "outputs": [
    {
     "name": "stdout",
     "output_type": "stream",
     "text": [
      "/kaggle/input/g2net-sr1-freqdataset/frequency_2022_12_31_06_35_1672511733\n",
      "/kaggle/input/g2net-sr1-freqdataset/frequency_2022_12_31_06_49_1672512574\n",
      "/kaggle/input/g2net-sr1-freqdataset/frequency_2022_12_31_06_42_1672512172\n"
     ]
    }
   ],
   "source": [
    "# This Python 3 environment comes with many helpful analytics libraries installed\n",
    "# It is defined by the kaggle/python Docker image: https://github.com/kaggle/docker-python\n",
    "# For example, here's several helpful packages to load\n",
    "\n",
    "import numpy as np # linear algebra\n",
    "import pandas as pd # data processing, CSV file I/O (e.g. pd.read_csv)\n",
    "import pickle\n",
    "# Input data files are available in the read-only \"../input/\" directory\n",
    "# For example, running this (by clicking run or pressing Shift+Enter) will list all files under the input directory\n",
    "\n",
    "import os\n",
    "for dirname, _, filenames in os.walk('/kaggle/input'):\n",
    "    for filename in filenames:\n",
    "        print(os.path.join(dirname, filename))\n",
    "\n",
    "# You can write up to 20GB to the current directory (/kaggle/working/) that gets preserved as output when you create a version using \"Save & Run All\" \n",
    "# You can also write temporary files to /kaggle/temp/, but they won't be saved outside of the current session"
   ]
  },
  {
   "cell_type": "code",
   "execution_count": 2,
   "id": "ab0c5e67",
   "metadata": {
    "execution": {
     "iopub.execute_input": "2022-12-31T19:14:31.203039Z",
     "iopub.status.busy": "2022-12-31T19:14:31.202264Z",
     "iopub.status.idle": "2022-12-31T19:14:31.212596Z",
     "shell.execute_reply": "2022-12-31T19:14:31.211264Z"
    },
    "papermill": {
     "duration": 0.018965,
     "end_time": "2022-12-31T19:14:31.215601",
     "exception": false,
     "start_time": "2022-12-31T19:14:31.196636",
     "status": "completed"
    },
    "tags": []
   },
   "outputs": [
    {
     "data": {
      "text/plain": [
       "'/kaggle/working'"
      ]
     },
     "execution_count": 2,
     "metadata": {},
     "output_type": "execute_result"
    }
   ],
   "source": [
    "pwd"
   ]
  },
  {
   "cell_type": "code",
   "execution_count": 3,
   "id": "c13fbbef",
   "metadata": {
    "execution": {
     "iopub.execute_input": "2022-12-31T19:14:31.226121Z",
     "iopub.status.busy": "2022-12-31T19:14:31.225732Z",
     "iopub.status.idle": "2022-12-31T19:14:32.334743Z",
     "shell.execute_reply": "2022-12-31T19:14:32.333235Z"
    },
    "papermill": {
     "duration": 1.11785,
     "end_time": "2022-12-31T19:14:32.338037",
     "exception": false,
     "start_time": "2022-12-31T19:14:31.220187",
     "status": "completed"
    },
    "tags": []
   },
   "outputs": [],
   "source": [
    "cp /kaggle/input/g2net-sr1-freqdataset/frequency* ."
   ]
  },
  {
   "cell_type": "code",
   "execution_count": 4,
   "id": "035de5d5",
   "metadata": {
    "execution": {
     "iopub.execute_input": "2022-12-31T19:14:32.351788Z",
     "iopub.status.busy": "2022-12-31T19:14:32.350523Z",
     "iopub.status.idle": "2022-12-31T19:14:32.366640Z",
     "shell.execute_reply": "2022-12-31T19:14:32.365629Z"
    },
    "papermill": {
     "duration": 0.02528,
     "end_time": "2022-12-31T19:14:32.369107",
     "exception": false,
     "start_time": "2022-12-31T19:14:32.343827",
     "status": "completed"
    },
    "tags": []
   },
   "outputs": [],
   "source": [
    "dbfile = open('frequency_2022_12_31_06_42_1672512172', 'rb') \n",
    "in11 = pickle.load(dbfile)\n",
    "dbfile2 = open('frequency_2022_12_31_06_49_1672512574', 'rb') \n",
    "in12 = pickle.load(dbfile2)\n",
    "dbfile3 = open('frequency_2022_12_31_06_35_1672511733', 'rb') \n",
    "in13 = pickle.load(dbfile3)"
   ]
  },
  {
   "cell_type": "code",
   "execution_count": 5,
   "id": "b12544ce",
   "metadata": {
    "execution": {
     "iopub.execute_input": "2022-12-31T19:14:32.379757Z",
     "iopub.status.busy": "2022-12-31T19:14:32.379412Z",
     "iopub.status.idle": "2022-12-31T19:14:32.383931Z",
     "shell.execute_reply": "2022-12-31T19:14:32.382859Z"
    },
    "papermill": {
     "duration": 0.01216,
     "end_time": "2022-12-31T19:14:32.385900",
     "exception": false,
     "start_time": "2022-12-31T19:14:32.373740",
     "status": "completed"
    },
    "tags": []
   },
   "outputs": [],
   "source": [
    "dbfile.close()\n",
    "dbfile2.close()\n",
    "dbfile3.close()"
   ]
  },
  {
   "cell_type": "code",
   "execution_count": 6,
   "id": "628e3103",
   "metadata": {
    "execution": {
     "iopub.execute_input": "2022-12-31T19:14:32.396526Z",
     "iopub.status.busy": "2022-12-31T19:14:32.395937Z",
     "iopub.status.idle": "2022-12-31T19:14:32.400976Z",
     "shell.execute_reply": "2022-12-31T19:14:32.399924Z"
    },
    "papermill": {
     "duration": 0.012678,
     "end_time": "2022-12-31T19:14:32.403083",
     "exception": false,
     "start_time": "2022-12-31T19:14:32.390405",
     "status": "completed"
    },
    "tags": []
   },
   "outputs": [],
   "source": [
    "# unique=(in_noise_only,in_signal_only)\n",
    "\n",
    "in11_in_noise_only,in11_in_signal_only=in11\n",
    "in12_in_noise_only,in12_in_signal_only=in12\n",
    "in13_in_noise_only,in13_in_signal_only=in13"
   ]
  },
  {
   "cell_type": "code",
   "execution_count": 7,
   "id": "f0494b32",
   "metadata": {
    "execution": {
     "iopub.execute_input": "2022-12-31T19:14:32.413450Z",
     "iopub.status.busy": "2022-12-31T19:14:32.413080Z",
     "iopub.status.idle": "2022-12-31T19:14:32.418933Z",
     "shell.execute_reply": "2022-12-31T19:14:32.417922Z"
    },
    "papermill": {
     "duration": 0.013556,
     "end_time": "2022-12-31T19:14:32.421113",
     "exception": false,
     "start_time": "2022-12-31T19:14:32.407557",
     "status": "completed"
    },
    "tags": []
   },
   "outputs": [],
   "source": [
    "in_allnoises=list(set(in11_in_noise_only)&set(in12_in_noise_only)&set(in13_in_noise_only))\n",
    "in_allsignals=list(set(in11_in_signal_only)&set(in12_in_signal_only)&set(in13_in_signal_only))"
   ]
  },
  {
   "cell_type": "code",
   "execution_count": 8,
   "id": "bb39cd81",
   "metadata": {
    "execution": {
     "iopub.execute_input": "2022-12-31T19:14:32.431457Z",
     "iopub.status.busy": "2022-12-31T19:14:32.431083Z",
     "iopub.status.idle": "2022-12-31T19:14:32.438423Z",
     "shell.execute_reply": "2022-12-31T19:14:32.437335Z"
    },
    "papermill": {
     "duration": 0.01508,
     "end_time": "2022-12-31T19:14:32.440685",
     "exception": false,
     "start_time": "2022-12-31T19:14:32.425605",
     "status": "completed"
    },
    "tags": []
   },
   "outputs": [
    {
     "data": {
      "text/plain": [
       "[99.85444444444444,\n",
       " 100.34166666666667,\n",
       " 100.08888888888889,\n",
       " 99.88611111111112,\n",
       " 100.09166666666667,\n",
       " 99.54777777777778,\n",
       " 100.31888888888889,\n",
       " 100.17333333333333,\n",
       " 99.60333333333334]"
      ]
     },
     "execution_count": 8,
     "metadata": {},
     "output_type": "execute_result"
    }
   ],
   "source": [
    "in_allnoises"
   ]
  },
  {
   "cell_type": "code",
   "execution_count": 9,
   "id": "08efce1e",
   "metadata": {
    "execution": {
     "iopub.execute_input": "2022-12-31T19:14:32.451524Z",
     "iopub.status.busy": "2022-12-31T19:14:32.451153Z",
     "iopub.status.idle": "2022-12-31T19:14:32.459288Z",
     "shell.execute_reply": "2022-12-31T19:14:32.458250Z"
    },
    "papermill": {
     "duration": 0.016294,
     "end_time": "2022-12-31T19:14:32.461440",
     "exception": false,
     "start_time": "2022-12-31T19:14:32.445146",
     "status": "completed"
    },
    "tags": []
   },
   "outputs": [
    {
     "data": {
      "text/plain": [
       "[99.98944444444444,\n",
       " 99.94555555555556,\n",
       " 99.98611111111111,\n",
       " 99.9388888888889,\n",
       " 100.02333333333334,\n",
       " 99.9588888888889,\n",
       " 99.99944444444445,\n",
       " 99.96555555555555,\n",
       " 100.00611111111111,\n",
       " 100.00944444444444,\n",
       " 100.00277777777778,\n",
       " 99.92833333333334,\n",
       " 99.94166666666666,\n",
       " 99.97888888888889,\n",
       " 99.93833333333333,\n",
       " 99.9688888888889,\n",
       " 99.98222222222222,\n",
       " 99.935,\n",
       " 100.01277777777779,\n",
       " 99.94833333333334,\n",
       " 99.94500000000001,\n",
       " 99.99555555555555,\n",
       " 99.99277777777777,\n",
       " 99.98444444444445,\n",
       " 99.92777777777778,\n",
       " 99.97166666666666,\n",
       " 99.96166666666667,\n",
       " 99.98111111111112,\n",
       " 99.99111111111111,\n",
       " 100.015,\n",
       " 99.92611111111111,\n",
       " 99.96666666666667,\n",
       " 100.46333333333334,\n",
       " 100.02944444444445,\n",
       " 100.01222222222222,\n",
       " 99.98833333333333,\n",
       " 99.93777777777778,\n",
       " 100.43777777777778,\n",
       " 100.02222222222223,\n",
       " 100.01555555555557,\n",
       " 100.02888888888889,\n",
       " 99.62,\n",
       " 99.95777777777778,\n",
       " 99.95111111111112,\n",
       " 100.00166666666667,\n",
       " 99.96777777777778,\n",
       " 99.96444444444445,\n",
       " 99.97777777777777,\n",
       " 99.97444444444444,\n",
       " 100.01666666666667,\n",
       " 100.01166666666667,\n",
       " 100.05722222222222,\n",
       " 100.03166666666667,\n",
       " 100.02166666666668,\n",
       " 100.025,\n",
       " 100.02833333333334,\n",
       " 99.96388888888889,\n",
       " 100.00444444444445,\n",
       " 100.00777777777778,\n",
       " 99.97722222222222,\n",
       " 99.9738888888889,\n",
       " 99.93,\n",
       " 99.98055555555555,\n",
       " 100.01,\n",
       " 99.9161111111111,\n",
       " 99.95666666666666,\n",
       " 99.99722222222222,\n",
       " 99.98722222222223,\n",
       " 99.95333333333333,\n",
       " 100.00722222222223,\n",
       " 100.01055555555556,\n",
       " 99.93944444444445,\n",
       " 99.97666666666667,\n",
       " 99.98,\n",
       " 99.94277777777778,\n",
       " 100.03055555555555,\n",
       " 100.02055555555556,\n",
       " 100.02722222222222,\n",
       " 99.95277777777778,\n",
       " 99.99000000000001,\n",
       " 99.95611111111111,\n",
       " 99.9888888888889,\n",
       " 100.0,\n",
       " 100.00333333333333,\n",
       " 100.0338888888889,\n",
       " 99.97277777777778,\n",
       " 99.96611111111112,\n",
       " 99.94333333333334,\n",
       " 99.95166666666667,\n",
       " 99.93055555555556,\n",
       " 99.97833333333334,\n",
       " 99.96722222222222,\n",
       " 100.30555555555556,\n",
       " 100.01333333333334,\n",
       " 99.95722222222223,\n",
       " 99.99777777777778,\n",
       " 99.99055555555556]"
      ]
     },
     "execution_count": 9,
     "metadata": {},
     "output_type": "execute_result"
    }
   ],
   "source": [
    "in_allsignals"
   ]
  },
  {
   "cell_type": "code",
   "execution_count": 10,
   "id": "71739c94",
   "metadata": {
    "execution": {
     "iopub.execute_input": "2022-12-31T19:14:32.472726Z",
     "iopub.status.busy": "2022-12-31T19:14:32.472339Z",
     "iopub.status.idle": "2022-12-31T19:14:32.479253Z",
     "shell.execute_reply": "2022-12-31T19:14:32.478181Z"
    },
    "papermill": {
     "duration": 0.015386,
     "end_time": "2022-12-31T19:14:32.481568",
     "exception": false,
     "start_time": "2022-12-31T19:14:32.466182",
     "status": "completed"
    },
    "tags": []
   },
   "outputs": [
    {
     "data": {
      "text/plain": [
       "(97, 9)"
      ]
     },
     "execution_count": 10,
     "metadata": {},
     "output_type": "execute_result"
    }
   ],
   "source": [
    "\n",
    "len(in_allsignals),len(in_allnoises)\n"
   ]
  },
  {
   "cell_type": "code",
   "execution_count": 11,
   "id": "028ff504",
   "metadata": {
    "execution": {
     "iopub.execute_input": "2022-12-31T19:14:32.493017Z",
     "iopub.status.busy": "2022-12-31T19:14:32.492640Z",
     "iopub.status.idle": "2022-12-31T19:14:32.497356Z",
     "shell.execute_reply": "2022-12-31T19:14:32.496352Z"
    },
    "papermill": {
     "duration": 0.013164,
     "end_time": "2022-12-31T19:14:32.499659",
     "exception": false,
     "start_time": "2022-12-31T19:14:32.486495",
     "status": "completed"
    },
    "tags": []
   },
   "outputs": [],
   "source": [
    "finalfeaturetupple=(in_allnoises,in_allsignals)\n",
    "#len(finalfeaturetupple)"
   ]
  },
  {
   "cell_type": "code",
   "execution_count": 12,
   "id": "a5903182",
   "metadata": {
    "execution": {
     "iopub.execute_input": "2022-12-31T19:14:32.510955Z",
     "iopub.status.busy": "2022-12-31T19:14:32.510586Z",
     "iopub.status.idle": "2022-12-31T19:14:32.514964Z",
     "shell.execute_reply": "2022-12-31T19:14:32.514033Z"
    },
    "papermill": {
     "duration": 0.012716,
     "end_time": "2022-12-31T19:14:32.517205",
     "exception": false,
     "start_time": "2022-12-31T19:14:32.504489",
     "status": "completed"
    },
    "tags": []
   },
   "outputs": [],
   "source": [
    "#!touch finaladditionalfeaturefreq_`date +\"%Y_%m_%d_%I_%M_%s\"`"
   ]
  },
  {
   "cell_type": "code",
   "execution_count": 13,
   "id": "5a4d38c3",
   "metadata": {
    "execution": {
     "iopub.execute_input": "2022-12-31T19:14:32.528912Z",
     "iopub.status.busy": "2022-12-31T19:14:32.528524Z",
     "iopub.status.idle": "2022-12-31T19:14:32.532924Z",
     "shell.execute_reply": "2022-12-31T19:14:32.531877Z"
    },
    "papermill": {
     "duration": 0.013145,
     "end_time": "2022-12-31T19:14:32.535215",
     "exception": false,
     "start_time": "2022-12-31T19:14:32.522070",
     "status": "completed"
    },
    "tags": []
   },
   "outputs": [],
   "source": [
    "#ls -l"
   ]
  },
  {
   "cell_type": "code",
   "execution_count": 14,
   "id": "5df99eaa",
   "metadata": {
    "execution": {
     "iopub.execute_input": "2022-12-31T19:14:32.546796Z",
     "iopub.status.busy": "2022-12-31T19:14:32.546421Z",
     "iopub.status.idle": "2022-12-31T19:14:32.550844Z",
     "shell.execute_reply": "2022-12-31T19:14:32.549729Z"
    },
    "papermill": {
     "duration": 0.013035,
     "end_time": "2022-12-31T19:14:32.553120",
     "exception": false,
     "start_time": "2022-12-31T19:14:32.540085",
     "status": "completed"
    },
    "tags": []
   },
   "outputs": [],
   "source": [
    "# save record of not common frequencies in signal and noise in external file\n",
    "\n",
    "#finaldbfile = open('finaladditionalfeaturefreq_2022_12_31_07_09_1672513798','ab')\n",
    "#pickle.dump(finalfeaturetupple, finaldbfile)    "
   ]
  },
  {
   "cell_type": "code",
   "execution_count": 15,
   "id": "82cd6f44",
   "metadata": {
    "execution": {
     "iopub.execute_input": "2022-12-31T19:14:32.564841Z",
     "iopub.status.busy": "2022-12-31T19:14:32.564473Z",
     "iopub.status.idle": "2022-12-31T19:14:32.569201Z",
     "shell.execute_reply": "2022-12-31T19:14:32.568189Z"
    },
    "papermill": {
     "duration": 0.013259,
     "end_time": "2022-12-31T19:14:32.571515",
     "exception": false,
     "start_time": "2022-12-31T19:14:32.558256",
     "status": "completed"
    },
    "tags": []
   },
   "outputs": [],
   "source": [
    "#finaldbfile.close()"
   ]
  }
 ],
 "metadata": {
  "kernelspec": {
   "display_name": "Python 3",
   "language": "python",
   "name": "python3"
  },
  "language_info": {
   "codemirror_mode": {
    "name": "ipython",
    "version": 3
   },
   "file_extension": ".py",
   "mimetype": "text/x-python",
   "name": "python",
   "nbconvert_exporter": "python",
   "pygments_lexer": "ipython3",
   "version": "3.7.12"
  },
  "papermill": {
   "default_parameters": {},
   "duration": 10.540483,
   "end_time": "2022-12-31T19:14:33.298792",
   "environment_variables": {},
   "exception": null,
   "input_path": "__notebook__.ipynb",
   "output_path": "__notebook__.ipynb",
   "parameters": {},
   "start_time": "2022-12-31T19:14:22.758309",
   "version": "2.3.4"
  }
 },
 "nbformat": 4,
 "nbformat_minor": 5
}
